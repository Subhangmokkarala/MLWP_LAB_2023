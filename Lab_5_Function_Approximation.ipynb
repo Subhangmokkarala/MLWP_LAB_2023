{
 "cells": [
  {
   "cell_type": "markdown",
   "id": "1b16e27c",
   "metadata": {},
   "source": [
    "# How Can Machines Learn?"
   ]
  },
  {
   "cell_type": "markdown",
   "id": "c4367eb8",
   "metadata": {},
   "source": [
    "# 1. Starts with Data (PAST)"
   ]
  },
  {
   "cell_type": "code",
   "execution_count": 1,
   "id": "dc0a91a6",
   "metadata": {},
   "outputs": [],
   "source": [
    "import numpy as np"
   ]
  },
  {
   "cell_type": "code",
   "execution_count": 2,
   "id": "143341c2",
   "metadata": {},
   "outputs": [
    {
     "data": {
      "text/plain": [
       "array([-1,  0,  1,  2,  3,  4])"
      ]
     },
     "execution_count": 2,
     "metadata": {},
     "output_type": "execute_result"
    }
   ],
   "source": [
    "X = np.array([-1,0,1,2,3,4])\n",
    "X"
   ]
  },
  {
   "cell_type": "code",
   "execution_count": 3,
   "id": "e795f34d",
   "metadata": {},
   "outputs": [
    {
     "data": {
      "text/plain": [
       "array([[-21,   1,  23,  45,  67,  89]])"
      ]
     },
     "execution_count": 3,
     "metadata": {},
     "output_type": "execute_result"
    }
   ],
   "source": [
    "y = np.array([22*X+1])\n",
    "y"
   ]
  },
  {
   "cell_type": "markdown",
   "id": "2972d1fa",
   "metadata": {},
   "source": [
    "# 2. Select a Function to Calculate the Predictions - Linear Function yp = ax+b"
   ]
  },
  {
   "cell_type": "code",
   "execution_count": 4,
   "id": "09ee9d76",
   "metadata": {},
   "outputs": [],
   "source": [
    "yp = []\n",
    "a = 0\n",
    "b = 0\n",
    "# Initialization\n",
    "epochs = 10\n",
    "n = len(X)\n",
    "l = 0.1"
   ]
  },
  {
   "cell_type": "code",
   "execution_count": 5,
   "id": "e8c58b18",
   "metadata": {},
   "outputs": [
    {
     "data": {
      "text/plain": [
       "5"
      ]
     },
     "execution_count": 5,
     "metadata": {},
     "output_type": "execute_result"
    }
   ],
   "source": [
    "np.sum([2,3])"
   ]
  },
  {
   "cell_type": "markdown",
   "id": "412f26a6",
   "metadata": {},
   "source": [
    "# 3. Lets Teach machine"
   ]
  },
  {
   "cell_type": "code",
   "execution_count": 6,
   "id": "d22e91d2",
   "metadata": {},
   "outputs": [
    {
     "name": "stdout",
     "output_type": "stream",
     "text": [
      "\n",
      " The error 35.0626954107548 after each epoch 0\n",
      "\n",
      " The error 9.483821477039223 after each epoch 1\n",
      "\n",
      " The error 2.565202796698934 after each epoch 2\n",
      "\n",
      " The error 0.693841127663907 after each epoch 3\n",
      "\n",
      " The error 0.18767152096412482 after each epoch 4\n",
      "\n",
      " The error 0.05076176429548348 after each epoch 5\n",
      "\n",
      " The error 0.013730142437982427 after each epoch 6\n",
      "\n",
      " The error 0.003713756091493296 after each epoch 7\n",
      "\n",
      " The error 0.0010045040952341947 after each epoch 8\n",
      "\n",
      " The error 0.000271700255074361 after each epoch 9\n"
     ]
    }
   ],
   "source": [
    "for i in range(epochs):\n",
    "    for j in range(len(X)):\n",
    "        yp = a*X+b\n",
    "        da = (-2/len(X))*np.sum([X*(y-yp)])\n",
    "        db = (-2/len(X))*np.sum([(y-yp)])\n",
    "        a = a - l*da\n",
    "        b = b - l*db\n",
    "        e = np.sum([(y-yp)**2])\n",
    "    print('\\n The error',e,'after each epoch',i)"
   ]
  },
  {
   "cell_type": "code",
   "execution_count": 7,
   "id": "205900fa",
   "metadata": {},
   "outputs": [
    {
     "data": {
      "text/plain": [
       "array([-20.98821069,   1.00891409,  23.00603888,  45.00316367,\n",
       "        67.00028845,  88.99741324])"
      ]
     },
     "execution_count": 7,
     "metadata": {},
     "output_type": "execute_result"
    }
   ],
   "source": [
    "yp"
   ]
  },
  {
   "cell_type": "code",
   "execution_count": 8,
   "id": "f6b444ff",
   "metadata": {},
   "outputs": [
    {
     "data": {
      "text/plain": [
       "0.000271700255074361"
      ]
     },
     "execution_count": 8,
     "metadata": {},
     "output_type": "execute_result"
    }
   ],
   "source": [
    "e"
   ]
  },
  {
   "cell_type": "code",
   "execution_count": 9,
   "id": "b1c22dc7",
   "metadata": {},
   "outputs": [
    {
     "data": {
      "text/plain": [
       "21.997421612141835"
      ]
     },
     "execution_count": 9,
     "metadata": {},
     "output_type": "execute_result"
    }
   ],
   "source": [
    "a"
   ]
  },
  {
   "cell_type": "code",
   "execution_count": 10,
   "id": "b12b2a15",
   "metadata": {},
   "outputs": [
    {
     "data": {
      "text/plain": [
       "1.0079938394198242"
      ]
     },
     "execution_count": 10,
     "metadata": {},
     "output_type": "execute_result"
    }
   ],
   "source": [
    "b"
   ]
  },
  {
   "cell_type": "markdown",
   "id": "98328326",
   "metadata": {},
   "source": [
    "# The equation you selected for prediction is called the MODEL."
   ]
  },
  {
   "cell_type": "markdown",
   "id": "685881a2",
   "metadata": {},
   "source": [
    "# The variables a and b are called Model paramters or Trainable Parameters"
   ]
  },
  {
   "cell_type": "markdown",
   "id": "c4482ce2",
   "metadata": {},
   "source": [
    "# The error in this case is Mean Square Error"
   ]
  },
  {
   "cell_type": "markdown",
   "id": "9eafd41d",
   "metadata": {},
   "source": [
    "# The learning rate and number of epochs are called hyperparameters of the model which is the choice of the user"
   ]
  },
  {
   "cell_type": "code",
   "execution_count": 11,
   "id": "4119d6c0",
   "metadata": {},
   "outputs": [],
   "source": [
    "a = 0\n",
    "b = 0 \n",
    "yp = 0 \n",
    "e = 0\n",
    "from numpy.random import default_rng\n",
    "a = default_rng(42).random()\n",
    "b = default_rng(42).random()"
   ]
  },
  {
   "cell_type": "code",
   "execution_count": 12,
   "id": "61608ea8",
   "metadata": {},
   "outputs": [
    {
     "name": "stdout",
     "output_type": "stream",
     "text": [
      "\n",
      " The error 41.3535500427524 after each epoch 0\n",
      "\n",
      " The error 11.185384799374448 after each epoch 1\n",
      "\n",
      " The error 3.025445010640032 after each epoch 2\n",
      "\n",
      " The error 0.8183283522725697 after each epoch 3\n",
      "\n",
      " The error 0.22134307177226265 after each epoch 4\n",
      "\n",
      " The error 0.059869311976694865 after each epoch 5\n",
      "\n",
      " The error 0.016193569953934523 after each epoch 6\n",
      "\n",
      " The error 0.004380068839859403 after each epoch 7\n",
      "\n",
      " The error 0.0011847296857016398 after each epoch 8\n",
      "\n",
      " The error 0.0003204480293572858 after each epoch 9\n"
     ]
    }
   ],
   "source": [
    "for i in range(epochs):\n",
    "    for j in range(len(X)):\n",
    "        yp = a*X+b\n",
    "        da = (-2/len(X))*np.sum([X*(y-yp)])\n",
    "        db = (-2/len(X))*np.sum([(y-yp)])\n",
    "        a = a - l*da\n",
    "        b = b - l*db\n",
    "        e = np.sum([(y-yp)**2])\n",
    "    print('\\n The error',e,'after each epoch',i)"
   ]
  },
  {
   "cell_type": "code",
   "execution_count": 13,
   "id": "88c2edad",
   "metadata": {},
   "outputs": [
    {
     "name": "stdout",
     "output_type": "stream",
     "text": [
      "[-20.9871967    1.00968079  23.00655828  45.00343577  67.00031326\n",
      "  88.99719075]\n"
     ]
    }
   ],
   "source": [
    "print(yp)"
   ]
  },
  {
   "cell_type": "markdown",
   "id": "5dc6d394",
   "metadata": {},
   "source": [
    "# Lets Use it on a real dataset : tvmarketing"
   ]
  },
  {
   "cell_type": "code",
   "execution_count": 14,
   "id": "7c0a5dd9",
   "metadata": {},
   "outputs": [],
   "source": [
    "import pandas as pd"
   ]
  },
  {
   "cell_type": "code",
   "execution_count": 15,
   "id": "1dde2863",
   "metadata": {},
   "outputs": [],
   "source": [
    "df = pd.read_csv('tvmarketing.csv')"
   ]
  },
  {
   "cell_type": "code",
   "execution_count": 16,
   "id": "4e3f7df2",
   "metadata": {},
   "outputs": [
    {
     "data": {
      "text/html": [
       "<div>\n",
       "<style scoped>\n",
       "    .dataframe tbody tr th:only-of-type {\n",
       "        vertical-align: middle;\n",
       "    }\n",
       "\n",
       "    .dataframe tbody tr th {\n",
       "        vertical-align: top;\n",
       "    }\n",
       "\n",
       "    .dataframe thead th {\n",
       "        text-align: right;\n",
       "    }\n",
       "</style>\n",
       "<table border=\"1\" class=\"dataframe\">\n",
       "  <thead>\n",
       "    <tr style=\"text-align: right;\">\n",
       "      <th></th>\n",
       "      <th>TV</th>\n",
       "      <th>Sales</th>\n",
       "    </tr>\n",
       "  </thead>\n",
       "  <tbody>\n",
       "    <tr>\n",
       "      <th>0</th>\n",
       "      <td>230.1</td>\n",
       "      <td>22.1</td>\n",
       "    </tr>\n",
       "    <tr>\n",
       "      <th>1</th>\n",
       "      <td>44.5</td>\n",
       "      <td>10.4</td>\n",
       "    </tr>\n",
       "    <tr>\n",
       "      <th>2</th>\n",
       "      <td>17.2</td>\n",
       "      <td>9.3</td>\n",
       "    </tr>\n",
       "    <tr>\n",
       "      <th>3</th>\n",
       "      <td>151.5</td>\n",
       "      <td>18.5</td>\n",
       "    </tr>\n",
       "    <tr>\n",
       "      <th>4</th>\n",
       "      <td>180.8</td>\n",
       "      <td>12.9</td>\n",
       "    </tr>\n",
       "    <tr>\n",
       "      <th>...</th>\n",
       "      <td>...</td>\n",
       "      <td>...</td>\n",
       "    </tr>\n",
       "    <tr>\n",
       "      <th>195</th>\n",
       "      <td>38.2</td>\n",
       "      <td>7.6</td>\n",
       "    </tr>\n",
       "    <tr>\n",
       "      <th>196</th>\n",
       "      <td>94.2</td>\n",
       "      <td>9.7</td>\n",
       "    </tr>\n",
       "    <tr>\n",
       "      <th>197</th>\n",
       "      <td>177.0</td>\n",
       "      <td>12.8</td>\n",
       "    </tr>\n",
       "    <tr>\n",
       "      <th>198</th>\n",
       "      <td>283.6</td>\n",
       "      <td>25.5</td>\n",
       "    </tr>\n",
       "    <tr>\n",
       "      <th>199</th>\n",
       "      <td>232.1</td>\n",
       "      <td>13.4</td>\n",
       "    </tr>\n",
       "  </tbody>\n",
       "</table>\n",
       "<p>200 rows × 2 columns</p>\n",
       "</div>"
      ],
      "text/plain": [
       "        TV  Sales\n",
       "0    230.1   22.1\n",
       "1     44.5   10.4\n",
       "2     17.2    9.3\n",
       "3    151.5   18.5\n",
       "4    180.8   12.9\n",
       "..     ...    ...\n",
       "195   38.2    7.6\n",
       "196   94.2    9.7\n",
       "197  177.0   12.8\n",
       "198  283.6   25.5\n",
       "199  232.1   13.4\n",
       "\n",
       "[200 rows x 2 columns]"
      ]
     },
     "execution_count": 16,
     "metadata": {},
     "output_type": "execute_result"
    }
   ],
   "source": [
    "df"
   ]
  },
  {
   "cell_type": "markdown",
   "id": "51feefda",
   "metadata": {},
   "source": [
    "# Number of Hours of avertizing a product Vs the corresponding sales increment or decrement."
   ]
  },
  {
   "cell_type": "code",
   "execution_count": 17,
   "id": "005d5ce6",
   "metadata": {},
   "outputs": [
    {
     "data": {
      "text/plain": [
       "(200, 2)"
      ]
     },
     "execution_count": 17,
     "metadata": {},
     "output_type": "execute_result"
    }
   ],
   "source": [
    "df.shape"
   ]
  },
  {
   "cell_type": "code",
   "execution_count": 18,
   "id": "233ae176",
   "metadata": {},
   "outputs": [
    {
     "data": {
      "text/html": [
       "<div>\n",
       "<style scoped>\n",
       "    .dataframe tbody tr th:only-of-type {\n",
       "        vertical-align: middle;\n",
       "    }\n",
       "\n",
       "    .dataframe tbody tr th {\n",
       "        vertical-align: top;\n",
       "    }\n",
       "\n",
       "    .dataframe thead th {\n",
       "        text-align: right;\n",
       "    }\n",
       "</style>\n",
       "<table border=\"1\" class=\"dataframe\">\n",
       "  <thead>\n",
       "    <tr style=\"text-align: right;\">\n",
       "      <th></th>\n",
       "      <th>TV</th>\n",
       "      <th>Sales</th>\n",
       "    </tr>\n",
       "  </thead>\n",
       "  <tbody>\n",
       "    <tr>\n",
       "      <th>count</th>\n",
       "      <td>200.000000</td>\n",
       "      <td>200.000000</td>\n",
       "    </tr>\n",
       "    <tr>\n",
       "      <th>mean</th>\n",
       "      <td>147.042500</td>\n",
       "      <td>14.022500</td>\n",
       "    </tr>\n",
       "    <tr>\n",
       "      <th>std</th>\n",
       "      <td>85.854236</td>\n",
       "      <td>5.217457</td>\n",
       "    </tr>\n",
       "    <tr>\n",
       "      <th>min</th>\n",
       "      <td>0.700000</td>\n",
       "      <td>1.600000</td>\n",
       "    </tr>\n",
       "    <tr>\n",
       "      <th>25%</th>\n",
       "      <td>74.375000</td>\n",
       "      <td>10.375000</td>\n",
       "    </tr>\n",
       "    <tr>\n",
       "      <th>50%</th>\n",
       "      <td>149.750000</td>\n",
       "      <td>12.900000</td>\n",
       "    </tr>\n",
       "    <tr>\n",
       "      <th>75%</th>\n",
       "      <td>218.825000</td>\n",
       "      <td>17.400000</td>\n",
       "    </tr>\n",
       "    <tr>\n",
       "      <th>max</th>\n",
       "      <td>296.400000</td>\n",
       "      <td>27.000000</td>\n",
       "    </tr>\n",
       "  </tbody>\n",
       "</table>\n",
       "</div>"
      ],
      "text/plain": [
       "               TV       Sales\n",
       "count  200.000000  200.000000\n",
       "mean   147.042500   14.022500\n",
       "std     85.854236    5.217457\n",
       "min      0.700000    1.600000\n",
       "25%     74.375000   10.375000\n",
       "50%    149.750000   12.900000\n",
       "75%    218.825000   17.400000\n",
       "max    296.400000   27.000000"
      ]
     },
     "execution_count": 18,
     "metadata": {},
     "output_type": "execute_result"
    }
   ],
   "source": [
    "df.describe()"
   ]
  },
  {
   "cell_type": "code",
   "execution_count": 19,
   "id": "91252d1d",
   "metadata": {},
   "outputs": [
    {
     "name": "stdout",
     "output_type": "stream",
     "text": [
      "TV       False\n",
      "Sales    False\n",
      "dtype: bool\n"
     ]
    }
   ],
   "source": [
    "print(df.isnull().any()) # To Check the dataset"
   ]
  },
  {
   "cell_type": "code",
   "execution_count": 20,
   "id": "a130fa5d",
   "metadata": {},
   "outputs": [
    {
     "data": {
      "text/plain": [
       "0      230.1\n",
       "1       44.5\n",
       "2       17.2\n",
       "3      151.5\n",
       "4      180.8\n",
       "       ...  \n",
       "195     38.2\n",
       "196     94.2\n",
       "197    177.0\n",
       "198    283.6\n",
       "199    232.1\n",
       "Name: TV, Length: 200, dtype: float64"
      ]
     },
     "execution_count": 20,
     "metadata": {},
     "output_type": "execute_result"
    }
   ],
   "source": [
    "X = df.iloc[:,0]\n",
    "X"
   ]
  },
  {
   "cell_type": "code",
   "execution_count": 21,
   "id": "a5cb00c7",
   "metadata": {},
   "outputs": [
    {
     "data": {
      "text/plain": [
       "0      22.1\n",
       "1      10.4\n",
       "2       9.3\n",
       "3      18.5\n",
       "4      12.9\n",
       "       ... \n",
       "195     7.6\n",
       "196     9.7\n",
       "197    12.8\n",
       "198    25.5\n",
       "199    13.4\n",
       "Name: Sales, Length: 200, dtype: float64"
      ]
     },
     "execution_count": 21,
     "metadata": {},
     "output_type": "execute_result"
    }
   ],
   "source": [
    "y = df.iloc[:,1]\n",
    "y"
   ]
  },
  {
   "cell_type": "code",
   "execution_count": 22,
   "id": "255f76bb",
   "metadata": {},
   "outputs": [],
   "source": [
    "X = np.array(X)\n",
    "y = np.array(y)"
   ]
  },
  {
   "cell_type": "markdown",
   "id": "0bed85e4",
   "metadata": {},
   "source": [
    "# Split data into training and testing"
   ]
  },
  {
   "cell_type": "code",
   "execution_count": 23,
   "id": "0d6d7c18",
   "metadata": {},
   "outputs": [],
   "source": [
    "from sklearn.model_selection import train_test_split"
   ]
  },
  {
   "cell_type": "code",
   "execution_count": 24,
   "id": "cf95e9f3",
   "metadata": {},
   "outputs": [],
   "source": [
    "X_train,X_test,y_train,y_test = train_test_split(X,y,test_size = 0.3, random_state = 42)"
   ]
  },
  {
   "cell_type": "code",
   "execution_count": 25,
   "id": "98a19812",
   "metadata": {},
   "outputs": [
    {
     "name": "stdout",
     "output_type": "stream",
     "text": [
      "(140,)\n",
      "(60,)\n",
      "(140,)\n",
      "(60,)\n"
     ]
    }
   ],
   "source": [
    "print(X_train.shape)\n",
    "print(X_test.shape)\n",
    "print(y_train.shape)\n",
    "print(y_test.shape)"
   ]
  },
  {
   "cell_type": "code",
   "execution_count": 26,
   "id": "85316b41",
   "metadata": {},
   "outputs": [
    {
     "data": {
      "text/plain": [
       "(array([284.3, 184.9, 112.9,  23.8, 290.7,  19.4, 293.6,  18.7, 134.3,\n",
       "         25.6, 100.4,  80.2, 188.4, 177. , 125.7, 209.6, 142.9, 184.9,\n",
       "        222.4, 241.7,  17.2, 120.5,  89.7, 191.1,  75.5, 193.2,  85.7,\n",
       "        266.9,  39.5, 261.3,  13.2, 193.7, 296.4, 265.6, 214.7, 149.7,\n",
       "        131.7,  57.5, 240.1, 141.3, 180.8,  97.2, 220.5, 140.3, 255.4,\n",
       "         96.2,  66.1, 239.3, 175.7, 240.1,  17.9, 230.1, 283.6, 171.3,\n",
       "        199.1, 123.1, 131.1,  25.1, 163.5, 248.8, 202.5,  13.1,   4.1,\n",
       "         93.9, 262.9, 228.3, 253.8, 243.2, 239.8, 228. , 215.4, 239.9,\n",
       "        107.4, 187.8, 206.9,  43. , 151.5, 137.9, 182.6, 219.8, 156.6,\n",
       "        276.7, 205. ,  66.9,  76.4,  95.7, 120.2, 225.8,  28.6,  68.4,\n",
       "        248.4, 218.5, 109.8,   8.6,  97.5, 210.7, 164.5, 265.2, 281.4,\n",
       "         26.8, 276.9,  36.9, 206.8, 287.6, 102.7, 262.7,  90.4, 199.8,\n",
       "         94.2, 210.8, 227.2,  88.3, 237.4, 136.2, 172.5,  17.2,  59.6,\n",
       "         74.7, 149.8, 166.8,  44.5, 216.4,  44.7,   0.7, 121. , 187.9,\n",
       "        135.2, 139.2, 110.7, 213.4,  18.8, 232.1, 218.4, 286. , 109.8,\n",
       "         25. , 204.1, 217.7, 165.6, 280.2]),\n",
       " array([15. , 15.5, 11.9,  9.2, 12.8,  6.6, 20.7,  6.7, 11.2,  9.5, 10.7,\n",
       "         8.8, 14.9, 17.1, 15.9, 15.9, 15. , 20.7, 11.7, 21.8,  9.3, 14.2,\n",
       "        10.6, 17.3,  9.9, 15.2, 13.3, 25.4, 10.8, 24.2,  5.6, 19.2, 23.8,\n",
       "        17.4, 17.4, 17.3, 12.9, 11.8, 15.9, 15.5, 12.9,  9.6, 20.1, 10.3,\n",
       "        19.8, 11.4,  8.6, 15.7, 14.1, 13.2,  8. , 22.1, 25.5, 19. , 18.3,\n",
       "        15.2, 18. ,  8.5, 18. , 18.9, 16.6,  5.3,  3.2, 15.3, 12. , 15.5,\n",
       "        17.6, 25.4, 12.3, 21.5, 17.1, 23.2, 11.5, 15.6, 12.9,  9.6, 18.5,\n",
       "        19.2, 21.2, 19.6, 10.5, 11.8, 22.6,  9.7, 11.8,  9.5, 13.2, 13.4,\n",
       "         7.3, 13.6, 20.2, 12.2, 16.7,  4.8,  9.7, 18.4, 14.5, 12.7, 24.4,\n",
       "         8.8, 27. , 10.8, 12.2, 26.2, 14. , 20.2,  8.7, 11.4,  9.7, 23.8,\n",
       "        14.8, 12.9, 12.5, 13.2, 14.4,  5.9,  9.7, 14.7, 10.1, 19.6, 10.4,\n",
       "        22.6, 10.1,  1.6, 11.6, 14.7, 17.2, 12.2, 16. , 17. ,  7. , 13.4,\n",
       "        18. , 15.9, 12.4,  7.2, 19. , 19.4, 12.6, 14.8]))"
      ]
     },
     "execution_count": 26,
     "metadata": {},
     "output_type": "execute_result"
    }
   ],
   "source": [
    "X_train,y_train"
   ]
  },
  {
   "cell_type": "markdown",
   "id": "02927744",
   "metadata": {},
   "source": [
    "# Initialize the Model"
   ]
  },
  {
   "cell_type": "code",
   "execution_count": 47,
   "id": "48ea9e70",
   "metadata": {},
   "outputs": [],
   "source": [
    "a = 0\n",
    "b = 0 \n",
    "yp = 0 \n",
    "e = 0\n",
    "from numpy.random import default_rng\n",
    "a = default_rng(42).random()\n",
    "b = default_rng(42).random()\n",
    "l = 0.000001\n",
    "epochs = 55000"
   ]
  },
  {
   "cell_type": "code",
   "execution_count": 48,
   "id": "e585725e",
   "metadata": {},
   "outputs": [],
   "source": [
    "for i in range(epochs):\n",
    "    for j in range(len(X_train)):\n",
    "        yp = a*X_train+b\n",
    "        da = (-2/len(X))*np.sum([X_train*(y_train-yp)])\n",
    "        db = (-2/len(X))*np.sum([(y_train-yp)])\n",
    "        a = a - l*da\n",
    "        b = b - l*db\n",
    "        e = np.sum([(y_train-yp)**2])"
   ]
  },
  {
   "cell_type": "code",
   "execution_count": 49,
   "id": "963c25c4",
   "metadata": {},
   "outputs": [
    {
     "data": {
      "text/plain": [
       "0.04933872060492669"
      ]
     },
     "execution_count": 49,
     "metadata": {},
     "output_type": "execute_result"
    }
   ],
   "source": [
    "a"
   ]
  },
  {
   "cell_type": "code",
   "execution_count": 50,
   "id": "0712f760",
   "metadata": {},
   "outputs": [
    {
     "data": {
      "text/plain": [
       "6.650119522857754"
      ]
     },
     "execution_count": 50,
     "metadata": {},
     "output_type": "execute_result"
    }
   ],
   "source": [
    "b"
   ]
  },
  {
   "cell_type": "code",
   "execution_count": 51,
   "id": "0c307401",
   "metadata": {},
   "outputs": [
    {
     "data": {
      "text/plain": [
       "1577.2812605926429"
      ]
     },
     "execution_count": 51,
     "metadata": {},
     "output_type": "execute_result"
    }
   ],
   "source": [
    "e"
   ]
  },
  {
   "cell_type": "code",
   "execution_count": 52,
   "id": "20f38494",
   "metadata": {},
   "outputs": [],
   "source": [
    "import matplotlib.pyplot as plt"
   ]
  },
  {
   "cell_type": "code",
   "execution_count": 53,
   "id": "4bb6f727",
   "metadata": {},
   "outputs": [],
   "source": [
    "yp = a*X_test+b"
   ]
  },
  {
   "cell_type": "code",
   "execution_count": 54,
   "id": "159c8173",
   "metadata": {},
   "outputs": [
    {
     "data": {
      "text/plain": [
       "[<matplotlib.lines.Line2D at 0x19331c0ec40>]"
      ]
     },
     "execution_count": 54,
     "metadata": {},
     "output_type": "execute_result"
    },
    {
     "data": {
      "image/png": "[encoded data removed]",
      "text/plain": [
       "<Figure size 432x288 with 1 Axes>"
      ]
     },
     "metadata": {
      "needs_background": "light"
     },
     "output_type": "display_data"
    }
   ],
   "source": [
    "plt.plot(y_test)\n",
    "plt.plot(yp,'r')"
   ]
  },
  {
   "cell_type": "code",
   "execution_count": 46,
   "id": "1f8cdac3",
   "metadata": {},
   "outputs": [
    {
     "data": {
      "text/plain": [
       "<matplotlib.collections.PathCollection at 0x19331bb23d0>"
      ]
     },
     "execution_count": 46,
     "metadata": {},
     "output_type": "execute_result"
    },
    {
     "data": {
      "image/png": "[encoded data removed]",
      "text/plain": [
       "<Figure size 432x288 with 1 Axes>"
      ]
     },
     "metadata": {
      "needs_background": "light"
     },
     "output_type": "display_data"
    }
   ],
   "source": [
    "X1 = np.linspace(0,1,60)\n",
    "plt.scatter(X1,y_test)\n",
    "plt.scatter(X1,yp)"
   ]
  },
  {
   "cell_type": "code",
   "execution_count": null,
   "id": "7be0db87",
   "metadata": {},
   "outputs": [],
   "source": []
  }
 ],
 "metadata": {
  "kernelspec": {
   "display_name": "Python 3",
   "language": "python",
   "name": "python3"
  },
  "language_info": {
   "codemirror_mode": {
    "name": "ipython",
    "version": 3
   },
   "file_extension": ".py",
   "mimetype": "text/x-python",
   "name": "python",
   "nbconvert_exporter": "python",
   "pygments_lexer": "ipython3",
   "version": "3.8.8"
  }
 },
 "nbformat": 4,
 "nbformat_minor": 5
}
