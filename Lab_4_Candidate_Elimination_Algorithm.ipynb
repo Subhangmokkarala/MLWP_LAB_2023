{
 "cells": [
  {
   "cell_type": "markdown",
   "id": "da4bd0f5",
   "metadata": {},
   "source": [
    "# Candidate Elimination Algorithm for selecting best possible hypothesis from both positive and negative examples"
   ]
  },
  {
   "cell_type": "code",
   "execution_count": 1,
   "id": "6693196a",
   "metadata": {},
   "outputs": [],
   "source": [
    "import pandas as pd\n",
    "import numpy as np"
   ]
  },
  {
   "cell_type": "markdown",
   "id": "c7182505",
   "metadata": {},
   "source": [
    "# Step_1: Load the Dataset"
   ]
  },
  {
   "cell_type": "code",
   "execution_count": 2,
   "id": "b0b69f54",
   "metadata": {},
   "outputs": [],
   "source": [
    "df = pd.read_csv('Data_Find_S_Class_example.csv')"
   ]
  },
  {
   "cell_type": "code",
   "execution_count": 3,
   "id": "972dcd8b",
   "metadata": {},
   "outputs": [
    {
     "data": {
      "text/plain": [
       "array([['Sunny', 'Warm', 'Normal', 'Strong', 'Warm', 'Same'],\n",
       "       ['Sunny', 'Warm', 'High', 'Strong', 'Warm', 'Same'],\n",
       "       ['Rainy', 'Cold', 'High', 'Strong', 'Warm', 'Change'],\n",
       "       ['Sunny', 'Warm', 'High', 'Strong', 'Cool', 'Change']],\n",
       "      dtype=object)"
      ]
     },
     "execution_count": 3,
     "metadata": {},
     "output_type": "execute_result"
    }
   ],
   "source": [
    "attributes = np.array(df.iloc[:,1:-1])\n",
    "attributes"
   ]
  },
  {
   "cell_type": "code",
   "execution_count": 4,
   "id": "d4fbbac7",
   "metadata": {},
   "outputs": [
    {
     "data": {
      "text/plain": [
       "array(['Yes', 'Yes', 'No', 'Yes'], dtype=object)"
      ]
     },
     "execution_count": 4,
     "metadata": {},
     "output_type": "execute_result"
    }
   ],
   "source": [
    "targets = np.array(df.iloc[:,-1])\n",
    "targets"
   ]
  },
  {
   "cell_type": "markdown",
   "id": "f33a15ba",
   "metadata": {},
   "source": [
    "# Step 2: Initialize Specific and General Hypothesis"
   ]
  },
  {
   "cell_type": "code",
   "execution_count": 5,
   "id": "0f054b97",
   "metadata": {},
   "outputs": [
    {
     "name": "stdout",
     "output_type": "stream",
     "text": [
      "['0', '0', '0', '0', '0', '0']\n"
     ]
    }
   ],
   "source": [
    "specific_hypothesis = ['0']*attributes.shape[1]\n",
    "print(specific_hypothesis)"
   ]
  },
  {
   "cell_type": "markdown",
   "id": "c37541cd",
   "metadata": {},
   "source": [
    "general_hypothesis_1 = ['?']*attributes.shape[1]\n",
    "general_hypothesis = [general_hypothesis_1]*attributes.shape[1]\n",
    "print(general_hypothesis)\n",
    "type(general_hypothesis)"
   ]
  },
  {
   "cell_type": "code",
   "execution_count": 6,
   "id": "ddfacba9",
   "metadata": {},
   "outputs": [
    {
     "name": "stdout",
     "output_type": "stream",
     "text": [
      "0 ['Sunny' 'Warm' 'Normal' 'Strong' 'Warm' 'Same']\n",
      "1 ['Sunny' 'Warm' 'High' 'Strong' 'Warm' 'Same']\n",
      "2 ['Rainy' 'Cold' 'High' 'Strong' 'Warm' 'Change']\n",
      "3 ['Sunny' 'Warm' 'High' 'Strong' 'Cool' 'Change']\n"
     ]
    }
   ],
   "source": [
    "for i,h in enumerate(attributes):\n",
    "    print(i,h)"
   ]
  },
  {
   "cell_type": "code",
   "execution_count": 7,
   "id": "627b8da1",
   "metadata": {},
   "outputs": [
    {
     "name": "stdout",
     "output_type": "stream",
     "text": [
      "Sunny\n",
      "Warm\n",
      "Normal\n",
      "Strong\n",
      "Warm\n",
      "Same\n",
      "Sunny\n",
      "Warm\n",
      "High\n",
      "Strong\n",
      "Warm\n",
      "Same\n",
      "Rainy\n",
      "Cold\n",
      "High\n",
      "Strong\n",
      "Warm\n",
      "Change\n",
      "Sunny\n",
      "Warm\n",
      "High\n",
      "Strong\n",
      "Cool\n",
      "Change\n"
     ]
    }
   ],
   "source": [
    "for i,h in enumerate(attributes):\n",
    "    for j in range(len(specific_hypothesis)):\n",
    "        print(h[j])"
   ]
  },
  {
   "cell_type": "code",
   "execution_count": 8,
   "id": "c1799ac8",
   "metadata": {},
   "outputs": [
    {
     "name": "stdout",
     "output_type": "stream",
     "text": [
      "general_h:  [['?', '?', '?', '?', '?', '?'], ['?', '?', '?', '?', '?', '?'], ['?', '?', '?', '?', '?', '?'], ['?', '?', '?', '?', '?', '?'], ['?', '?', '?', '?', '?', '?'], ['?', '?', '?', '?', '?', '?']]\n"
     ]
    }
   ],
   "source": [
    "general_hypothesis = [[\"?\" for i in range(len(specific_hypothesis))] \n",
    "                      for i in range(len(specific_hypothesis))]\n",
    "print(\"general_h: \",general_hypothesis)"
   ]
  },
  {
   "cell_type": "markdown",
   "id": "dad6a820",
   "metadata": {},
   "source": [
    "specific_hypothesis = attributes[0].copy()\n",
    "for i,h in enumerate(attributes):\n",
    "    if targets[i] == 'Yes':\n",
    "        for j in range(len(specific_hypothesis)):\n",
    "            if h[j]!=specific_hypothesis[j]:\n",
    "                specific_hypothesis[j] = '?'\n",
    "                general_hypothesis[j] = '?'\n",
    "print(specific_hypothesis)\n",
    "print(general_hypothesis)"
   ]
  },
  {
   "cell_type": "markdown",
   "id": "dfa14ca0",
   "metadata": {},
   "source": [
    "# Sept 3: For each training example in the data\n",
    "# Step 4: IF positive\n",
    "## if attribute_Value == general_hypothesis_value\n",
    "### Retain the general_hypothesis_Value\n",
    "## Else replace attribute with '?'\n",
    "# Step5: If Negative example \n",
    "## Make generalize hypothesis more specific."
   ]
  },
  {
   "cell_type": "code",
   "execution_count": 9,
   "id": "8696b339",
   "metadata": {},
   "outputs": [
    {
     "name": "stdout",
     "output_type": "stream",
     "text": [
      "[['?', '?', '?', '?', '?', '?'], ['?', '?', '?', '?', '?', '?'], ['?', '?', '?', '?', '?', '?'], ['?', '?', '?', '?', '?', '?'], ['?', '?', '?', '?', '?', '?'], ['?', '?', '?', '?', '?', '?']]\n",
      "[['Sunny', '?', '?', '?', '?', '?'], ['?', 'Warm', '?', '?', '?', '?'], ['?', '?', '?', '?', '?', '?'], ['?', '?', '?', '?', '?', '?'], ['?', '?', '?', '?', '?', '?'], ['?', '?', '?', '?', '?', 'Same']]\n",
      "[['Sunny', '?', '?', '?', '?', '?'], ['?', 'Warm', '?', '?', '?', '?'], ['?', '?', '?', '?', '?', '?'], ['?', '?', '?', '?', '?', '?'], ['?', '?', '?', '?', '?', '?'], ['?', '?', '?', '?', '?', 'Same']]\n",
      "[['Sunny', '?', '?', '?', '?', '?'], ['?', 'Warm', '?', '?', '?', '?'], ['?', '?', '?', '?', '?', '?'], ['?', '?', '?', '?', '?', '?'], ['?', '?', '?', '?', '?', '?'], ['?', '?', '?', '?', '?', '?']]\n"
     ]
    }
   ],
   "source": [
    "specific_hypothesis = attributes[0].copy()\n",
    "for i,h in enumerate(attributes):\n",
    "    if targets[i] == 'Yes':\n",
    "        for j in range(len(specific_hypothesis)):\n",
    "            if h[j]!=specific_hypothesis[j]:\n",
    "                specific_hypothesis[j] = '?'\n",
    "                general_hypothesis[j][j] = '?'\n",
    "                print(general_hypothesis)\n",
    "    if targets[i] == 'No':\n",
    "        for j in range(len(specific_hypothesis)):\n",
    "            if h[j] != specific_hypothesis[j]:\n",
    "                general_hypothesis[j][j] = specific_hypothesis[j]\n",
    "            else:\n",
    "                general_hypothesis[j][j] = '?'"
   ]
  },
  {
   "cell_type": "code",
   "execution_count": 11,
   "id": "bb80d114",
   "metadata": {},
   "outputs": [
    {
     "name": "stdout",
     "output_type": "stream",
     "text": [
      "\n",
      "Indices [0, 1, 2, 3]\n",
      "[['?', 'Warm', '?', '?', '?', '?'], ['Sunny', '?', '?', '?', '?', '?']]\n",
      "['Sunny' 'Warm' '?' 'Strong' '?' '?']\n"
     ]
    }
   ],
   "source": [
    "indices = [i for i, val in enumerate(general_hypothesis) if val == ['?', '?', '?', '?', '?', '?']]\n",
    "print(\"\\nIndices\",indices)\n",
    "for i in indices:\n",
    "    general_hypothesis.remove(['?', '?', '?', '?', '?', '?'])\n",
    "print(general_hypothesis)\n",
    "print(specific_hypothesis)"
   ]
  },
  {
   "cell_type": "code",
   "execution_count": null,
   "id": "b12f361f",
   "metadata": {},
   "outputs": [],
   "source": []
  }
 ],
 "metadata": {
  "kernelspec": {
   "display_name": "Python 3",
   "language": "python",
   "name": "python3"
  },
  "language_info": {
   "codemirror_mode": {
    "name": "ipython",
    "version": 3
   },
   "file_extension": ".py",
   "mimetype": "text/x-python",
   "name": "python",
   "nbconvert_exporter": "python",
   "pygments_lexer": "ipython3",
   "version": "3.8.8"
  }
 },
 "nbformat": 4,
 "nbformat_minor": 5
}
