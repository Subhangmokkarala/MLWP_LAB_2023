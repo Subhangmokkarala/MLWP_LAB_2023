{
 "cells": [
  {
   "cell_type": "markdown",
   "id": "90538bec",
   "metadata": {},
   "source": [
    "# K - Means Clustring"
   ]
  },
  {
   "cell_type": "markdown",
   "id": "6a95b086",
   "metadata": {},
   "source": [
    "## The basic for K Means is distance function"
   ]
  },
  {
   "cell_type": "code",
   "execution_count": 1,
   "id": "03334d74",
   "metadata": {},
   "outputs": [],
   "source": [
    "import numpy as np"
   ]
  },
  {
   "cell_type": "code",
   "execution_count": 2,
   "id": "cf272764",
   "metadata": {},
   "outputs": [],
   "source": [
    "X = np.array([1,2])\n",
    "Y = np.array([2,1])"
   ]
  },
  {
   "cell_type": "code",
   "execution_count": 3,
   "id": "c02ed3d2",
   "metadata": {},
   "outputs": [],
   "source": [
    "Ed = np.sqrt(np.sum(np.square(X-Y)))"
   ]
  },
  {
   "cell_type": "code",
   "execution_count": 4,
   "id": "5210527c",
   "metadata": {},
   "outputs": [
    {
     "data": {
      "text/plain": [
       "1.4142135623730951"
      ]
     },
     "execution_count": 4,
     "metadata": {},
     "output_type": "execute_result"
    }
   ],
   "source": [
    "Ed"
   ]
  },
  {
   "cell_type": "markdown",
   "id": "cfdbe55d",
   "metadata": {},
   "source": [
    "# Verify your code"
   ]
  },
  {
   "cell_type": "code",
   "execution_count": 5,
   "id": "6a1562dd",
   "metadata": {},
   "outputs": [
    {
     "data": {
      "text/plain": [
       "1.4142135623730951"
      ]
     },
     "execution_count": 5,
     "metadata": {},
     "output_type": "execute_result"
    }
   ],
   "source": [
    "dist = np.linalg.norm(X-Y)\n",
    "dist"
   ]
  },
  {
   "cell_type": "code",
   "execution_count": 6,
   "id": "d73ae203",
   "metadata": {},
   "outputs": [
    {
     "data": {
      "text/plain": [
       "1.4142135623730951"
      ]
     },
     "execution_count": 6,
     "metadata": {},
     "output_type": "execute_result"
    }
   ],
   "source": [
    "temp = X - Y\n",
    "dist = np.sqrt(np.dot(temp.T,temp))\n",
    "dist"
   ]
  },
  {
   "cell_type": "code",
   "execution_count": 7,
   "id": "d6711022",
   "metadata": {},
   "outputs": [
    {
     "data": {
      "text/plain": [
       "1.4142135623730951"
      ]
     },
     "execution_count": 7,
     "metadata": {},
     "output_type": "execute_result"
    }
   ],
   "source": [
    "import math\n",
    "dist1 = math.dist(X,Y)\n",
    "dist1"
   ]
  },
  {
   "cell_type": "code",
   "execution_count": 8,
   "id": "bad9ec79",
   "metadata": {},
   "outputs": [],
   "source": [
    "import pandas as pd\n",
    "import matplotlib.pyplot as plt\n",
    "from sklearn.datasets import make_blobs\n",
    "from sklearn.cluster import KMeans"
   ]
  },
  {
   "cell_type": "code",
   "execution_count": 9,
   "id": "593beccc",
   "metadata": {},
   "outputs": [
    {
     "data": {
      "text/plain": [
       "array([1, 1, 0, 1, 0, 0, 1, 0, 1, 0, 1, 0, 1, 1, 1, 0, 1, 0, 0, 1, 1, 0,\n",
       "       0, 1, 0, 1, 1, 1, 1, 0, 0, 1, 0, 0, 0, 1, 0, 0, 1, 1, 0, 1, 1, 1,\n",
       "       1, 0, 0, 1, 0, 0, 0, 1, 1, 0, 1, 0, 1, 0, 0, 0])"
      ]
     },
     "execution_count": 9,
     "metadata": {},
     "output_type": "execute_result"
    }
   ],
   "source": [
    "X,y = make_blobs(n_samples = 60,centers = 2, cluster_std=2.9, random_state = 42)\n",
    "y"
   ]
  },
  {
   "cell_type": "code",
   "execution_count": 10,
   "id": "b45ad7b4",
   "metadata": {},
   "outputs": [],
   "source": [
    "#X"
   ]
  },
  {
   "cell_type": "code",
   "execution_count": 11,
   "id": "5793eca2",
   "metadata": {},
   "outputs": [
    {
     "data": {
      "text/plain": [
       "<matplotlib.collections.PathCollection at 0x1a76fb0f2b0>"
      ]
     },
     "execution_count": 11,
     "metadata": {},
     "output_type": "execute_result"
    },
    {
     "data": {
      "image/png": "[encoded data removed]",
      "text/plain": [
       "<Figure size 432x288 with 1 Axes>"
      ]
     },
     "metadata": {
      "needs_background": "light"
     },
     "output_type": "display_data"
    }
   ],
   "source": [
    "plt.scatter(X[:,0],X[:,1])"
   ]
  },
  {
   "cell_type": "markdown",
   "id": "a147f690",
   "metadata": {},
   "source": [
    "# Impliment KMeans using SKlearn API"
   ]
  },
  {
   "cell_type": "code",
   "execution_count": 12,
   "id": "8ca472c9",
   "metadata": {},
   "outputs": [],
   "source": [
    "kmeans = KMeans(n_clusters = 2,\n",
    "               init = 'k-means++',\n",
    "               max_iter = 20,\n",
    "               verbose = True,\n",
    "               random_state = 42)"
   ]
  },
  {
   "cell_type": "code",
   "execution_count": 13,
   "id": "409ae3db",
   "metadata": {},
   "outputs": [
    {
     "data": {
      "text/plain": [
       "KMeans(max_iter=20, n_clusters=2, random_state=42, verbose=True)"
      ]
     },
     "execution_count": 13,
     "metadata": {},
     "output_type": "execute_result"
    }
   ],
   "source": [
    "kmeans"
   ]
  },
  {
   "cell_type": "code",
   "execution_count": 14,
   "id": "c8a03cb9",
   "metadata": {},
   "outputs": [
    {
     "name": "stdout",
     "output_type": "stream",
     "text": [
      "Initialization complete\n",
      "Iteration 0, inertia 970.2740581912099\n",
      "Iteration 1, inertia 844.7676028779963\n",
      "Iteration 2, inertia 800.5974072777306\n",
      "Converged at iteration 2: strict convergence.\n",
      "Initialization complete\n",
      "Iteration 0, inertia 830.0921686938395\n",
      "Iteration 1, inertia 800.5974072777306\n",
      "Converged at iteration 1: strict convergence.\n",
      "Initialization complete\n",
      "Iteration 0, inertia 1228.214857617224\n",
      "Iteration 1, inertia 860.3427168640173\n",
      "Iteration 2, inertia 800.5974072777306\n",
      "Converged at iteration 2: strict convergence.\n",
      "Initialization complete\n",
      "Iteration 0, inertia 2057.5107584705693\n",
      "Iteration 1, inertia 807.684773527054\n",
      "Iteration 2, inertia 800.5974072777306\n",
      "Converged at iteration 2: strict convergence.\n",
      "Initialization complete\n",
      "Iteration 0, inertia 2069.2717379560213\n",
      "Iteration 1, inertia 1016.3969974140066\n",
      "Iteration 2, inertia 821.2912523829527\n",
      "Iteration 3, inertia 800.5974072777306\n",
      "Converged at iteration 3: strict convergence.\n",
      "Initialization complete\n",
      "Iteration 0, inertia 1186.8189995266036\n",
      "Iteration 1, inertia 803.2159383508734\n",
      "Iteration 2, inertia 800.5974072777306\n",
      "Converged at iteration 2: strict convergence.\n",
      "Initialization complete\n",
      "Iteration 0, inertia 1167.8672547849244\n",
      "Iteration 1, inertia 844.7676028779963\n",
      "Iteration 2, inertia 800.5974072777306\n",
      "Converged at iteration 2: strict convergence.\n",
      "Initialization complete\n",
      "Iteration 0, inertia 1278.5746682195638\n",
      "Iteration 1, inertia 832.8717482175985\n",
      "Iteration 2, inertia 800.5974072777306\n",
      "Converged at iteration 2: strict convergence.\n",
      "Initialization complete\n",
      "Iteration 0, inertia 1412.2563809820845\n",
      "Iteration 1, inertia 899.159746371889\n",
      "Iteration 2, inertia 808.0587035948048\n",
      "Iteration 3, inertia 800.5974072777306\n",
      "Converged at iteration 3: strict convergence.\n",
      "Initialization complete\n",
      "Iteration 0, inertia 1329.6933031678345\n",
      "Iteration 1, inertia 804.387940907825\n",
      "Iteration 2, inertia 800.5974072777306\n",
      "Converged at iteration 2: strict convergence.\n"
     ]
    }
   ],
   "source": [
    "pred_y = kmeans.fit_predict(X)"
   ]
  },
  {
   "cell_type": "code",
   "execution_count": 15,
   "id": "597b33d7",
   "metadata": {},
   "outputs": [
    {
     "data": {
      "text/plain": [
       "<matplotlib.collections.PathCollection at 0x1a76fc16940>"
      ]
     },
     "execution_count": 15,
     "metadata": {},
     "output_type": "execute_result"
    },
    {
     "data": {
      "image/png": "[encoded data removed]",
      "text/plain": [
       "<Figure size 432x288 with 1 Axes>"
      ]
     },
     "metadata": {
      "needs_background": "light"
     },
     "output_type": "display_data"
    }
   ],
   "source": [
    "plt.scatter(X[:,0],X[:,1])\n",
    "plt.scatter(kmeans.cluster_centers_[:,0],kmeans.cluster_centers_[:,1],\n",
    "           s = 40, c = 'red')"
   ]
  },
  {
   "cell_type": "code",
   "execution_count": 16,
   "id": "43436c8d",
   "metadata": {},
   "outputs": [
    {
     "data": {
      "text/plain": [
       "array([0, 0, 1, 0, 1, 1, 0, 1, 0, 1, 0, 1, 0, 0, 0, 1, 0, 1, 1, 0, 0, 1,\n",
       "       1, 0, 1, 0, 0, 0, 0, 1, 1, 0, 1, 1, 1, 0, 1, 1, 0, 0, 1, 0, 0, 0,\n",
       "       0, 1, 1, 1, 1, 1, 1, 0, 0, 1, 0, 1, 0, 1, 1, 1])"
      ]
     },
     "execution_count": 16,
     "metadata": {},
     "output_type": "execute_result"
    }
   ],
   "source": [
    "pred_y"
   ]
  },
  {
   "cell_type": "code",
   "execution_count": 21,
   "id": "656003e8",
   "metadata": {},
   "outputs": [
    {
     "data": {
      "image/png": "[encoded data removed]",
      "text/plain": [
       "<Figure size 432x288 with 1 Axes>"
      ]
     },
     "metadata": {
      "needs_background": "light"
     },
     "output_type": "display_data"
    }
   ],
   "source": [
    "plt.scatter(X[:,0],X[:,1], c=kmeans.labels_)\n",
    "plt.show()"
   ]
  },
  {
   "cell_type": "code",
   "execution_count": 24,
   "id": "5526885b",
   "metadata": {},
   "outputs": [
    {
     "data": {
      "image/png": "[encoded data removed]",
      "text/plain": [
       "<Figure size 432x288 with 1 Axes>"
      ]
     },
     "metadata": {
      "needs_background": "light"
     },
     "output_type": "display_data"
    }
   ],
   "source": [
    "plt.scatter(X[:,0],X[:,1], c=y)\n",
    "plt.show()"
   ]
  },
  {
   "cell_type": "markdown",
   "id": "b76ad2ce",
   "metadata": {},
   "source": [
    "# Give a tough Task for K Means"
   ]
  },
  {
   "cell_type": "code",
   "execution_count": 25,
   "id": "83768895",
   "metadata": {},
   "outputs": [],
   "source": [
    "from sklearn.datasets import make_moons"
   ]
  },
  {
   "cell_type": "code",
   "execution_count": 28,
   "id": "d1ae3878",
   "metadata": {},
   "outputs": [
    {
     "data": {
      "text/plain": [
       "<matplotlib.collections.PathCollection at 0x1a7700a8f10>"
      ]
     },
     "execution_count": 28,
     "metadata": {},
     "output_type": "execute_result"
    },
    {
     "data": {
      "image/png": "[encoded data removed]",
      "text/plain": [
       "<Figure size 432x288 with 1 Axes>"
      ]
     },
     "metadata": {
      "needs_background": "light"
     },
     "output_type": "display_data"
    }
   ],
   "source": [
    "X1, y1 = make_moons(n_samples = 50, noise = 0.05, random_state = 42,)\n",
    "plt.scatter(X1[:,0],X1[:,1],c=y1)"
   ]
  },
  {
   "cell_type": "code",
   "execution_count": 29,
   "id": "7a519d9b",
   "metadata": {},
   "outputs": [
    {
     "name": "stdout",
     "output_type": "stream",
     "text": [
      "Initialization complete\n",
      "Iteration 0, inertia 42.09416912077289\n",
      "Iteration 1, inertia 21.166283181529266\n",
      "Iteration 2, inertia 20.641863456682206\n",
      "Iteration 3, inertia 20.378244339332987\n",
      "Iteration 4, inertia 20.31658895128524\n",
      "Converged at iteration 4: strict convergence.\n",
      "Initialization complete\n",
      "Iteration 0, inertia 32.884077693227994\n",
      "Iteration 1, inertia 22.48319470966263\n",
      "Iteration 2, inertia 20.42949810600229\n",
      "Iteration 3, inertia 20.33191559237505\n",
      "Iteration 4, inertia 20.266485899264097\n",
      "Converged at iteration 4: strict convergence.\n",
      "Initialization complete\n",
      "Iteration 0, inertia 42.53550485212613\n",
      "Iteration 1, inertia 20.33768864429188\n",
      "Iteration 2, inertia 20.266485899264097\n",
      "Converged at iteration 2: strict convergence.\n",
      "Initialization complete\n",
      "Iteration 0, inertia 24.135873458202735\n",
      "Iteration 1, inertia 20.512360865117177\n",
      "Iteration 2, inertia 20.31658895128524\n",
      "Converged at iteration 2: strict convergence.\n",
      "Initialization complete\n",
      "Iteration 0, inertia 34.75236722990662\n",
      "Iteration 1, inertia 20.49635297376823\n",
      "Iteration 2, inertia 20.31658895128524\n",
      "Converged at iteration 2: strict convergence.\n",
      "Initialization complete\n",
      "Iteration 0, inertia 32.13901455806491\n",
      "Iteration 1, inertia 20.504537704776503\n",
      "Iteration 2, inertia 20.378244339332987\n",
      "Iteration 3, inertia 20.31658895128524\n",
      "Converged at iteration 3: strict convergence.\n",
      "Initialization complete\n",
      "Iteration 0, inertia 33.741459154791215\n",
      "Iteration 1, inertia 23.71105939423066\n",
      "Iteration 2, inertia 21.691921209399165\n",
      "Iteration 3, inertia 20.641863456682206\n",
      "Iteration 4, inertia 20.378244339332987\n",
      "Iteration 5, inertia 20.31658895128524\n",
      "Converged at iteration 5: strict convergence.\n",
      "Initialization complete\n",
      "Iteration 0, inertia 40.07652060041635\n",
      "Iteration 1, inertia 24.060218651044142\n",
      "Iteration 2, inertia 21.289950130800364\n",
      "Iteration 3, inertia 20.42949810600229\n",
      "Iteration 4, inertia 20.33191559237505\n",
      "Iteration 5, inertia 20.266485899264097\n",
      "Converged at iteration 5: strict convergence.\n",
      "Initialization complete\n",
      "Iteration 0, inertia 36.42616681724513\n",
      "Iteration 1, inertia 21.691921209399165\n",
      "Iteration 2, inertia 20.641863456682206\n",
      "Iteration 3, inertia 20.378244339332987\n",
      "Iteration 4, inertia 20.31658895128524\n",
      "Converged at iteration 4: strict convergence.\n",
      "Initialization complete\n",
      "Iteration 0, inertia 29.960358975835682\n",
      "Iteration 1, inertia 23.71105939423066\n",
      "Iteration 2, inertia 21.691921209399165\n",
      "Iteration 3, inertia 20.641863456682206\n",
      "Iteration 4, inertia 20.378244339332987\n",
      "Iteration 5, inertia 20.31658895128524\n",
      "Converged at iteration 5: strict convergence.\n"
     ]
    }
   ],
   "source": [
    "pred_y1 = kmeans.fit_predict(X1)"
   ]
  },
  {
   "cell_type": "code",
   "execution_count": 30,
   "id": "f51051b9",
   "metadata": {},
   "outputs": [
    {
     "data": {
      "text/plain": [
       "<function matplotlib.pyplot.show(close=None, block=None)>"
      ]
     },
     "execution_count": 30,
     "metadata": {},
     "output_type": "execute_result"
    },
    {
     "data": {
      "image/png": "[encoded data removed]",
      "text/plain": [
       "<Figure size 432x288 with 1 Axes>"
      ]
     },
     "metadata": {
      "needs_background": "light"
     },
     "output_type": "display_data"
    }
   ],
   "source": [
    "plt.scatter(X1[:,0],X1[:,1], c=pred_y1)\n",
    "plt.show"
   ]
  },
  {
   "cell_type": "markdown",
   "id": "10c3ccba",
   "metadata": {},
   "source": [
    "# Apply K-Means on a real example"
   ]
  },
  {
   "cell_type": "code",
   "execution_count": 31,
   "id": "d8115054",
   "metadata": {},
   "outputs": [],
   "source": [
    "df = pd.read_csv('kmeans_clustering.csv')"
   ]
  },
  {
   "cell_type": "code",
   "execution_count": 33,
   "id": "4713112a",
   "metadata": {},
   "outputs": [
    {
     "data": {
      "text/html": [
       "<div>\n",
       "<style scoped>\n",
       "    .dataframe tbody tr th:only-of-type {\n",
       "        vertical-align: middle;\n",
       "    }\n",
       "\n",
       "    .dataframe tbody tr th {\n",
       "        vertical-align: top;\n",
       "    }\n",
       "\n",
       "    .dataframe thead th {\n",
       "        text-align: right;\n",
       "    }\n",
       "</style>\n",
       "<table border=\"1\" class=\"dataframe\">\n",
       "  <thead>\n",
       "    <tr style=\"text-align: right;\">\n",
       "      <th></th>\n",
       "      <th>Loan_ID</th>\n",
       "      <th>Gender</th>\n",
       "      <th>Married</th>\n",
       "      <th>Dependents</th>\n",
       "      <th>Education</th>\n",
       "      <th>Self_Employed</th>\n",
       "      <th>ApplicantIncome</th>\n",
       "      <th>CoapplicantIncome</th>\n",
       "      <th>LoanAmount</th>\n",
       "      <th>Loan_Amount_Term</th>\n",
       "      <th>Credit_History</th>\n",
       "      <th>Property_Area</th>\n",
       "      <th>Loan_Status</th>\n",
       "    </tr>\n",
       "  </thead>\n",
       "  <tbody>\n",
       "    <tr>\n",
       "      <th>0</th>\n",
       "      <td>LP001003</td>\n",
       "      <td>Male</td>\n",
       "      <td>Yes</td>\n",
       "      <td>1</td>\n",
       "      <td>Graduate</td>\n",
       "      <td>No</td>\n",
       "      <td>4583</td>\n",
       "      <td>1508.0</td>\n",
       "      <td>128.0</td>\n",
       "      <td>360.0</td>\n",
       "      <td>1.0</td>\n",
       "      <td>Rural</td>\n",
       "      <td>N</td>\n",
       "    </tr>\n",
       "    <tr>\n",
       "      <th>1</th>\n",
       "      <td>LP001005</td>\n",
       "      <td>Male</td>\n",
       "      <td>Yes</td>\n",
       "      <td>0</td>\n",
       "      <td>Graduate</td>\n",
       "      <td>Yes</td>\n",
       "      <td>3000</td>\n",
       "      <td>0.0</td>\n",
       "      <td>66.0</td>\n",
       "      <td>360.0</td>\n",
       "      <td>1.0</td>\n",
       "      <td>Urban</td>\n",
       "      <td>Y</td>\n",
       "    </tr>\n",
       "    <tr>\n",
       "      <th>2</th>\n",
       "      <td>LP001006</td>\n",
       "      <td>Male</td>\n",
       "      <td>Yes</td>\n",
       "      <td>0</td>\n",
       "      <td>Not Graduate</td>\n",
       "      <td>No</td>\n",
       "      <td>2583</td>\n",
       "      <td>2358.0</td>\n",
       "      <td>120.0</td>\n",
       "      <td>360.0</td>\n",
       "      <td>1.0</td>\n",
       "      <td>Urban</td>\n",
       "      <td>Y</td>\n",
       "    </tr>\n",
       "    <tr>\n",
       "      <th>3</th>\n",
       "      <td>LP001008</td>\n",
       "      <td>Male</td>\n",
       "      <td>No</td>\n",
       "      <td>0</td>\n",
       "      <td>Graduate</td>\n",
       "      <td>No</td>\n",
       "      <td>6000</td>\n",
       "      <td>0.0</td>\n",
       "      <td>141.0</td>\n",
       "      <td>360.0</td>\n",
       "      <td>1.0</td>\n",
       "      <td>Urban</td>\n",
       "      <td>Y</td>\n",
       "    </tr>\n",
       "    <tr>\n",
       "      <th>4</th>\n",
       "      <td>LP001013</td>\n",
       "      <td>Male</td>\n",
       "      <td>Yes</td>\n",
       "      <td>0</td>\n",
       "      <td>Not Graduate</td>\n",
       "      <td>No</td>\n",
       "      <td>2333</td>\n",
       "      <td>1516.0</td>\n",
       "      <td>95.0</td>\n",
       "      <td>360.0</td>\n",
       "      <td>1.0</td>\n",
       "      <td>Urban</td>\n",
       "      <td>Y</td>\n",
       "    </tr>\n",
       "  </tbody>\n",
       "</table>\n",
       "</div>"
      ],
      "text/plain": [
       "    Loan_ID Gender Married Dependents     Education Self_Employed  \\\n",
       "0  LP001003   Male     Yes          1      Graduate            No   \n",
       "1  LP001005   Male     Yes          0      Graduate           Yes   \n",
       "2  LP001006   Male     Yes          0  Not Graduate            No   \n",
       "3  LP001008   Male      No          0      Graduate            No   \n",
       "4  LP001013   Male     Yes          0  Not Graduate            No   \n",
       "\n",
       "   ApplicantIncome  CoapplicantIncome  LoanAmount  Loan_Amount_Term  \\\n",
       "0             4583             1508.0       128.0             360.0   \n",
       "1             3000                0.0        66.0             360.0   \n",
       "2             2583             2358.0       120.0             360.0   \n",
       "3             6000                0.0       141.0             360.0   \n",
       "4             2333             1516.0        95.0             360.0   \n",
       "\n",
       "   Credit_History Property_Area Loan_Status  \n",
       "0             1.0         Rural           N  \n",
       "1             1.0         Urban           Y  \n",
       "2             1.0         Urban           Y  \n",
       "3             1.0         Urban           Y  \n",
       "4             1.0         Urban           Y  "
      ]
     },
     "execution_count": 33,
     "metadata": {},
     "output_type": "execute_result"
    }
   ],
   "source": [
    "df.head()"
   ]
  },
  {
   "cell_type": "code",
   "execution_count": 37,
   "id": "556e49a9",
   "metadata": {},
   "outputs": [],
   "source": [
    "X2 = df[['LoanAmount','ApplicantIncome']]"
   ]
  },
  {
   "cell_type": "code",
   "execution_count": 40,
   "id": "485f9c28",
   "metadata": {},
   "outputs": [],
   "source": [
    "X2 = np.array(X2)\n",
    "#X2"
   ]
  },
  {
   "cell_type": "code",
   "execution_count": 48,
   "id": "9d896206",
   "metadata": {},
   "outputs": [
    {
     "data": {
      "image/png": "[encoded data removed]",
      "text/plain": [
       "<Figure size 432x288 with 1 Axes>"
      ]
     },
     "metadata": {
      "needs_background": "light"
     },
     "output_type": "display_data"
    }
   ],
   "source": [
    "plt.scatter(X2[:,1],X2[:,0],c='black')\n",
    "plt.xlabel('AnnualIncome')\n",
    "plt.ylabel('Loan Amount (In Thousands)')\n",
    "plt.show()"
   ]
  },
  {
   "cell_type": "code",
   "execution_count": 44,
   "id": "77bec90d",
   "metadata": {},
   "outputs": [],
   "source": [
    "kmeans_2 = KMeans(n_clusters = 2)"
   ]
  },
  {
   "cell_type": "code",
   "execution_count": 45,
   "id": "3f69caf6",
   "metadata": {},
   "outputs": [],
   "source": [
    "pred_y2 = kmeans_2.fit(X2)"
   ]
  },
  {
   "cell_type": "code",
   "execution_count": 46,
   "id": "5ddcfee2",
   "metadata": {},
   "outputs": [
    {
     "data": {
      "text/plain": [
       "KMeans(n_clusters=2)"
      ]
     },
     "execution_count": 46,
     "metadata": {},
     "output_type": "execute_result"
    }
   ],
   "source": [
    "pred_y2"
   ]
  },
  {
   "cell_type": "code",
   "execution_count": 49,
   "id": "adde3618",
   "metadata": {},
   "outputs": [
    {
     "data": {
      "image/png": "[encoded data removed]",
      "text/plain": [
       "<Figure size 432x288 with 1 Axes>"
      ]
     },
     "metadata": {
      "needs_background": "light"
     },
     "output_type": "display_data"
    }
   ],
   "source": [
    "plt.scatter(X2[:,1], X2[:,0], c=pred_y2.labels_)\n",
    "plt.show()"
   ]
  },
  {
   "cell_type": "code",
   "execution_count": 50,
   "id": "8aa7d338",
   "metadata": {},
   "outputs": [],
   "source": [
    "Y2 = df[['Loan_Status']]"
   ]
  },
  {
   "cell_type": "code",
   "execution_count": 51,
   "id": "b5b7725b",
   "metadata": {},
   "outputs": [
    {
     "data": {
      "text/html": [
       "<div>\n",
       "<style scoped>\n",
       "    .dataframe tbody tr th:only-of-type {\n",
       "        vertical-align: middle;\n",
       "    }\n",
       "\n",
       "    .dataframe tbody tr th {\n",
       "        vertical-align: top;\n",
       "    }\n",
       "\n",
       "    .dataframe thead th {\n",
       "        text-align: right;\n",
       "    }\n",
       "</style>\n",
       "<table border=\"1\" class=\"dataframe\">\n",
       "  <thead>\n",
       "    <tr style=\"text-align: right;\">\n",
       "      <th></th>\n",
       "      <th>Loan_Status</th>\n",
       "    </tr>\n",
       "  </thead>\n",
       "  <tbody>\n",
       "    <tr>\n",
       "      <th>0</th>\n",
       "      <td>N</td>\n",
       "    </tr>\n",
       "    <tr>\n",
       "      <th>1</th>\n",
       "      <td>Y</td>\n",
       "    </tr>\n",
       "    <tr>\n",
       "      <th>2</th>\n",
       "      <td>Y</td>\n",
       "    </tr>\n",
       "    <tr>\n",
       "      <th>3</th>\n",
       "      <td>Y</td>\n",
       "    </tr>\n",
       "    <tr>\n",
       "      <th>4</th>\n",
       "      <td>Y</td>\n",
       "    </tr>\n",
       "    <tr>\n",
       "      <th>...</th>\n",
       "      <td>...</td>\n",
       "    </tr>\n",
       "    <tr>\n",
       "      <th>376</th>\n",
       "      <td>Y</td>\n",
       "    </tr>\n",
       "    <tr>\n",
       "      <th>377</th>\n",
       "      <td>Y</td>\n",
       "    </tr>\n",
       "    <tr>\n",
       "      <th>378</th>\n",
       "      <td>Y</td>\n",
       "    </tr>\n",
       "    <tr>\n",
       "      <th>379</th>\n",
       "      <td>Y</td>\n",
       "    </tr>\n",
       "    <tr>\n",
       "      <th>380</th>\n",
       "      <td>N</td>\n",
       "    </tr>\n",
       "  </tbody>\n",
       "</table>\n",
       "<p>381 rows × 1 columns</p>\n",
       "</div>"
      ],
      "text/plain": [
       "    Loan_Status\n",
       "0             N\n",
       "1             Y\n",
       "2             Y\n",
       "3             Y\n",
       "4             Y\n",
       "..          ...\n",
       "376           Y\n",
       "377           Y\n",
       "378           Y\n",
       "379           Y\n",
       "380           N\n",
       "\n",
       "[381 rows x 1 columns]"
      ]
     },
     "execution_count": 51,
     "metadata": {},
     "output_type": "execute_result"
    }
   ],
   "source": [
    "Y2"
   ]
  },
  {
   "cell_type": "markdown",
   "id": "def6a83a",
   "metadata": {},
   "source": [
    "# Task with K - Means"
   ]
  },
  {
   "cell_type": "markdown",
   "id": "eaff8634",
   "metadata": {},
   "source": [
    "## 1. Transform Labels in Y2 into N=0 and Y=1."
   ]
  },
  {
   "cell_type": "markdown",
   "id": "aaf68533",
   "metadata": {},
   "source": [
    "## 2. Plot the Predicted Output of K-Means showing the labels"
   ]
  },
  {
   "cell_type": "markdown",
   "id": "7b4cec76",
   "metadata": {},
   "source": [
    "## 3. What can be maximum number of clusters that can be accomplished on this dataset."
   ]
  },
  {
   "cell_type": "code",
   "execution_count": null,
   "id": "852d6821",
   "metadata": {},
   "outputs": [],
   "source": []
  }
 ],
 "metadata": {
  "kernelspec": {
   "display_name": "Python 3",
   "language": "python",
   "name": "python3"
  },
  "language_info": {
   "codemirror_mode": {
    "name": "ipython",
    "version": 3
   },
   "file_extension": ".py",
   "mimetype": "text/x-python",
   "name": "python",
   "nbconvert_exporter": "python",
   "pygments_lexer": "ipython3",
   "version": "3.8.8"
  }
 },
 "nbformat": 4,
 "nbformat_minor": 5
}
